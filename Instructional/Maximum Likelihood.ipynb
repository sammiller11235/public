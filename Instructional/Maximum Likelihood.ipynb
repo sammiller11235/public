{
 "cells": [
  {
   "cell_type": "markdown",
   "metadata": {},
   "source": [
    "Maximum likelihood\n",
    "\n",
    "$$ maximize: \\prod_{i=1}^n P(y_i|x_i,\\beta) $$\n",
    "\n",
    "using identity \n",
    "\n",
    "$$ log(a\\cdot b) = log(a) + log(b) $$\n",
    "\n",
    "$$ log \\big( \\prod_{i=1}^n P(y_i|x_i,\\beta) \\big) = \\sum_{i=1}^n log \\big( P(y_i|x_i,\\beta) \\big) $$\n",
    "\n",
    "We can instead minimize:\n",
    "\n",
    "$$ minimize: L(\\beta) =: - \\sum_{i=1}^n log \\big( P(y_i|x_i,\\beta) \\big) $$\n",
    "\n",
    "^ This is the **log-likelihood** $L(\\beta)$"
   ]
  },
  {
   "cell_type": "markdown",
   "metadata": {},
   "source": [
    "If we take the model error to be normally distributed:\n",
    "\n",
    "$$ \\varepsilon \\sim N(0, \\sigma^2) $$\n",
    "\n",
    "$$ Y = X\\beta + \\varepsilon $$\n",
    "\n",
    "(Or more generally $ Y = F_\\beta(X) + \\varepsilon $)"
   ]
  },
  {
   "cell_type": "markdown",
   "metadata": {},
   "source": [
    "Thus, if we use the likelihood:\n",
    "\n",
    "$$ P(Y|X,\\beta) = N(X\\beta, \\sigma^2) $$"
   ]
  },
  {
   "cell_type": "markdown",
   "metadata": {},
   "source": [
    "Using the probability density function (**pdf**) of the normal distribution:\n",
    "\n",
    "$$P(Y|X,\\beta) = \\frac{1}{\\sqrt{2\\pi\\sigma^2}}exp\\big(-\\frac{(Y - X\\beta)^2}{2\\sigma^2}\\big) $$"
   ]
  },
  {
   "cell_type": "markdown",
   "metadata": {},
   "source": [
    "Taking the log-likelihood\n",
    "\n",
    "$$ L(\\beta) = -\\frac{N}{2} log({2\\pi}) - N log(\\sigma) - \\frac{1}{2\\sigma^2}\\sum_{i=1}^{n} (Y - X\\beta)^2  $$"
   ]
  },
  {
   "cell_type": "markdown",
   "metadata": {},
   "source": [
    "Which can be seen is proportional to least squares, as only the final term involves $\\beta$"
   ]
  },
  {
   "cell_type": "code",
   "execution_count": null,
   "metadata": {},
   "outputs": [],
   "source": []
  }
 ],
 "metadata": {
  "kernelspec": {
   "display_name": "Python 3",
   "language": "python",
   "name": "python3"
  },
  "language_info": {
   "codemirror_mode": {
    "name": "ipython",
    "version": 3
   },
   "file_extension": ".py",
   "mimetype": "text/x-python",
   "name": "python",
   "nbconvert_exporter": "python",
   "pygments_lexer": "ipython3",
   "version": "3.7.1"
  }
 },
 "nbformat": 4,
 "nbformat_minor": 2
}
