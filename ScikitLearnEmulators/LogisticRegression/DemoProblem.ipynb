{
 "cells": [
  {
   "cell_type": "code",
   "execution_count": 9,
   "metadata": {},
   "outputs": [],
   "source": [
    "from IPython.core.interactiveshell import InteractiveShell\n",
    "InteractiveShell.ast_node_interactivity = \"all\"\n",
    "\n",
    "import os\n",
    "import sys\n",
    "import numpy as np\n",
    "from matplotlib import pyplot as plt\n",
    "from sklearn.datasets import make_classification"
   ]
  },
  {
   "cell_type": "code",
   "execution_count": 10,
   "metadata": {},
   "outputs": [],
   "source": [
    "# Add the working directory to the path to import local modules\n",
    "sys.path.insert(0, os.getcwd())\n",
    "# Import MY Logistic Regression Model\n",
    "import myLogisticRegression"
   ]
  },
  {
   "cell_type": "markdown",
   "metadata": {},
   "source": [
    "The following `make_classification` method is used to generate an example data set with 2 classes and 2 informative features in the data set."
   ]
  },
  {
   "cell_type": "code",
   "execution_count": 15,
   "metadata": {},
   "outputs": [],
   "source": [
    "X, y = make_classification(n_samples=100,\n",
    "                          n_informative=2,\n",
    "                          n_redundant=0,\n",
    "                          n_features=2, \n",
    "                          n_classes=2,\n",
    "                          random_state=3)\n",
    "# Scale y values to -1 and 1\n",
    "y = y*2 - 1"
   ]
  },
  {
   "cell_type": "code",
   "execution_count": 16,
   "metadata": {},
   "outputs": [
    {
     "data": {
      "text/plain": [
       "array([0.02239192, 0.17270548])"
      ]
     },
     "execution_count": 16,
     "metadata": {},
     "output_type": "execute_result"
    }
   ],
   "source": [
    "lambda_ = 1\n",
    "my_model = myLogisticRegression.LogisticRegression(lambda_)\n",
    "my_model.fit(X, y)\n",
    "my_model.coef_"
   ]
  },
  {
   "cell_type": "code",
   "execution_count": 17,
   "metadata": {},
   "outputs": [
    {
     "data": {
      "text/plain": [
       "array([0.64914209, 2.40771903])"
      ]
     },
     "execution_count": 17,
     "metadata": {},
     "output_type": "execute_result"
    },
    {
     "data": {
      "text/plain": [
       "0.0001"
      ]
     },
     "execution_count": 17,
     "metadata": {},
     "output_type": "execute_result"
    }
   ],
   "source": [
    "my_modelCV = myLogisticRegression.LogisticRegressionCV()\n",
    "my_modelCV.fit(X, y)\n",
    "my_modelCV.coef_\n",
    "my_modelCV.lambda_"
   ]
  },
  {
   "cell_type": "code",
   "execution_count": 18,
   "metadata": {},
   "outputs": [
    {
     "data": {
      "image/png": "[encoded data removed]",
      "text/plain": [
       "<Figure size 432x288 with 1 Axes>"
      ]
     },
     "metadata": {
      "needs_background": "light"
     },
     "output_type": "display_data"
    }
   ],
   "source": [
    "# Plot the X data colored by y\n",
    "X_0 = X[y == -1]\n",
    "X_1 = X[y == 1]\n",
    "ax = plt.gca()\n",
    "_ = plt.plot(X_0[:,0], X_0[:,1], color = 'r', marker='o', linestyle='None')\n",
    "_ = plt.plot(X_1[:,0], X_1[:,1], color = 'b', marker='o', linestyle='None')\n",
    "xax_lims, yax_lims = ax.get_xlim(), ax.get_xlim()\n",
    "\n",
    "# Plot the decision boundary for lambda = 1\n",
    "x_decision = np.array([np.min(X[:,0]), np.max(X[:,0])])\n",
    "y_decision = -(x_decision * my_model.coef_[0])/my_model.coef_[1]\n",
    "_ = plt.plot(x_decision, y_decision, linestyle='--', c='black', label = r'$\\lambda$ = 1 decision boundary')\n",
    "# Plot the decision boundary for cross-validation model\n",
    "y_decisionCV = -(x_decision * my_modelCV.coef_[0])/my_modelCV.coef_[1]\n",
    "_ = plt.plot(x_decision, y_decisionCV, linestyle='--', c='green', label = 'CV decision boundary')\n",
    "_ = plt.xlabel(r'$X_1$')\n",
    "_ = plt.ylabel(r'$X_2$')\n",
    "_ = plt.legend()\n",
    "_ = plt.xlim(xax_lims)\n",
    "_ = plt.ylim(yax_lims)"
   ]
  },
  {
   "cell_type": "markdown",
   "metadata": {},
   "source": [
    "In the above plot of the comparison between the decision boundaries with $\\lambda = 1$ and the cross-validation model, it can be seen that the CV model captures 1 additional point correctly."
   ]
  },
  {
   "cell_type": "code",
   "execution_count": 7,
   "metadata": {},
   "outputs": [
    {
     "data": {
      "text/plain": [
       "0.97"
      ]
     },
     "execution_count": 7,
     "metadata": {},
     "output_type": "execute_result"
    },
    {
     "data": {
      "text/plain": [
       "0.98"
      ]
     },
     "execution_count": 7,
     "metadata": {},
     "output_type": "execute_result"
    }
   ],
   "source": [
    "my_model.score(X, y)\n",
    "my_modelCV.score(X, y)"
   ]
  },
  {
   "cell_type": "markdown",
   "metadata": {},
   "source": [
    "The model score is 97% and 98% for the $\\lambda = 1$ and the cross-validation model, respectively. This can be seen in the above plot, where 3 and 2 of 100 points fall on the wrong side of the decision boundaries."
   ]
  },
  {
   "cell_type": "code",
   "execution_count": 8,
   "metadata": {},
   "outputs": [
    {
     "data": {
      "image/png": "[encoded data removed]",
      "text/plain": [
       "<Figure size 432x288 with 1 Axes>"
      ]
     },
     "metadata": {
      "needs_background": "light"
     },
     "output_type": "display_data"
    }
   ],
   "source": [
    "_ = my_model.plot_learning(X, y)"
   ]
  },
  {
   "cell_type": "markdown",
   "metadata": {},
   "source": [
    "The model converges within only a few iterations for this data set."
   ]
  }
 ],
 "metadata": {
  "kernelspec": {
   "display_name": "Python 3",
   "language": "python",
   "name": "python3"
  },
  "language_info": {
   "codemirror_mode": {
    "name": "ipython",
    "version": 3
   },
   "file_extension": ".py",
   "mimetype": "text/x-python",
   "name": "python",
   "nbconvert_exporter": "python",
   "pygments_lexer": "ipython3",
   "version": "3.7.3"
  }
 },
 "nbformat": 4,
 "nbformat_minor": 2
}
