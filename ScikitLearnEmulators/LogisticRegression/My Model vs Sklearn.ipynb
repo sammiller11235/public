{
 "cells": [
  {
   "cell_type": "code",
   "execution_count": 1,
   "metadata": {},
   "outputs": [],
   "source": [
    "from IPython.core.interactiveshell import InteractiveShell\n",
    "InteractiveShell.ast_node_interactivity = \"all\""
   ]
  },
  {
   "cell_type": "markdown",
   "metadata": {},
   "source": [
    "The breast cancer data set has 569 samples with 30 parameters. The samples are classified into two classes, either the tumor is malignant or benign."
   ]
  },
  {
   "cell_type": "code",
   "execution_count": 2,
   "metadata": {},
   "outputs": [],
   "source": [
    "from sklearn import datasets\n",
    "X, y = datasets.load_breast_cancer(return_X_y=True)\n",
    "# y:[0, 1] = ['malignant', 'benign']"
   ]
  },
  {
   "cell_type": "code",
   "execution_count": 3,
   "metadata": {},
   "outputs": [],
   "source": [
    "# Make y in (-1, 1)\n",
    "y = y*2-1"
   ]
  },
  {
   "cell_type": "markdown",
   "metadata": {},
   "source": [
    "------------------\n",
    "\n",
    "## My Logistic Regression"
   ]
  },
  {
   "cell_type": "code",
   "execution_count": 5,
   "metadata": {},
   "outputs": [],
   "source": [
    "import os\n",
    "import sys\n",
    "\n",
    "# Add the working directory to the path to import local modules\n",
    "sys.path.insert(0, os.getcwd())\n",
    "# Import MY Logistic Regression Model\n",
    "import myLogisticRegression"
   ]
  },
  {
   "cell_type": "code",
   "execution_count": 6,
   "metadata": {},
   "outputs": [],
   "source": [
    "X_test, y_test, X_train, y_train = myLogisticRegression.split_data_set(X, y, split = 0.2)\n",
    "X_train, X_test = myLogisticRegression.standardize_data(X_train, X_test)"
   ]
  },
  {
   "cell_type": "code",
   "execution_count": 7,
   "metadata": {},
   "outputs": [
    {
     "data": {
      "text/plain": [
       "array([-0.08113581, -0.05135443, -0.0817788 , -0.07713021, -0.03700612,\n",
       "       -0.0586525 , -0.06993336, -0.08396965, -0.03330156,  0.01440655,\n",
       "       -0.06071753,  0.00250271, -0.05764972, -0.0560863 ,  0.01435965,\n",
       "       -0.01498599, -0.00627036, -0.03046305,  0.00528767,  0.00980066,\n",
       "       -0.08790821, -0.05865554, -0.08744437, -0.0808492 , -0.04984763,\n",
       "       -0.06272309, -0.06873278, -0.08810804, -0.05071943, -0.03091308])"
      ]
     },
     "execution_count": 7,
     "metadata": {},
     "output_type": "execute_result"
    }
   ],
   "source": [
    "lambda_ = 1.\n",
    "my_model = myLogisticRegression.LogisticRegression(lambda_)\n",
    "my_model.fit(X_train, y_train)\n",
    "my_model.coef_"
   ]
  },
  {
   "cell_type": "code",
   "execution_count": 8,
   "metadata": {},
   "outputs": [],
   "source": [
    "test_predictions = my_model.predict(X_test)"
   ]
  },
  {
   "cell_type": "code",
   "execution_count": 9,
   "metadata": {},
   "outputs": [
    {
     "data": {
      "text/plain": [
       "0.9560439560439561"
      ]
     },
     "execution_count": 9,
     "metadata": {},
     "output_type": "execute_result"
    },
    {
     "data": {
      "text/plain": [
       "0.9210526315789473"
      ]
     },
     "execution_count": 9,
     "metadata": {},
     "output_type": "execute_result"
    }
   ],
   "source": [
    "my_model.score(X_train, y_train)\n",
    "my_model.score(X_test, y_test)"
   ]
  },
  {
   "cell_type": "markdown",
   "metadata": {},
   "source": [
    "`myLogisiticRegression` model demonstrates a 95.6% accuracy on the training set and a 92.1% accuracy on the test set."
   ]
  },
  {
   "cell_type": "code",
   "execution_count": 10,
   "metadata": {},
   "outputs": [
    {
     "data": {
      "image/png": "[encoded data removed]",
      "text/plain": [
       "<Figure size 432x288 with 1 Axes>"
      ]
     },
     "metadata": {
      "needs_background": "light"
     },
     "output_type": "display_data"
    }
   ],
   "source": [
    "fig = my_model.plot_learning(X_train, y_train)"
   ]
  },
  {
   "cell_type": "markdown",
   "metadata": {},
   "source": [
    "## Sklearn Logistic Regression"
   ]
  },
  {
   "cell_type": "code",
   "execution_count": 11,
   "metadata": {},
   "outputs": [],
   "source": [
    "from sklearn import preprocessing\n",
    "from sklearn.model_selection import train_test_split\n",
    "from sklearn.linear_model import LogisticRegression"
   ]
  },
  {
   "cell_type": "code",
   "execution_count": 12,
   "metadata": {},
   "outputs": [],
   "source": [
    "X_train, X_test, y_train, y_test = train_test_split(X, y, test_size=0.2, random_state=0)"
   ]
  },
  {
   "cell_type": "code",
   "execution_count": 13,
   "metadata": {},
   "outputs": [],
   "source": [
    "scaler = preprocessing.StandardScaler()\n",
    "X_train = scaler.fit_transform(X_train)\n",
    "X_test = scaler.transform(X_test)"
   ]
  },
  {
   "cell_type": "code",
   "execution_count": 14,
   "metadata": {},
   "outputs": [],
   "source": [
    "n, d = X_train.shape\n",
    "regularizationFactor = 1/(2*n*lambda_)\n",
    "sklearn_model = LogisticRegression(C = regularizationFactor, \n",
    "                                   fit_intercept=False, \n",
    "                                   solver='lbfgs', \n",
    "                                   penalty='l2', \n",
    "                                   tol=10e-8)"
   ]
  },
  {
   "cell_type": "code",
   "execution_count": 15,
   "metadata": {},
   "outputs": [
    {
     "data": {
      "text/plain": [
       "array([[-0.0811359 , -0.05135712, -0.08177906, -0.07713123, -0.03700806,\n",
       "        -0.05865398, -0.06993285, -0.08396892, -0.03330439,  0.0144059 ,\n",
       "        -0.06071669,  0.00250377, -0.05764996, -0.0560876 ,  0.01435863,\n",
       "        -0.01498644, -0.00627153, -0.03046372,  0.00528914,  0.00980204,\n",
       "        -0.08790755, -0.05865766, -0.08744438, -0.08084989, -0.0498479 ,\n",
       "        -0.06272328, -0.06873241, -0.08810706, -0.05071905, -0.03091182]])"
      ]
     },
     "execution_count": 15,
     "metadata": {},
     "output_type": "execute_result"
    },
    {
     "data": {
      "text/plain": [
       "0.9560439560439561"
      ]
     },
     "execution_count": 15,
     "metadata": {},
     "output_type": "execute_result"
    },
    {
     "data": {
      "text/plain": [
       "0.9210526315789473"
      ]
     },
     "execution_count": 15,
     "metadata": {},
     "output_type": "execute_result"
    }
   ],
   "source": [
    "_ = sklearn_model.fit(X_train, y_train)\n",
    "sklearn_model.coef_\n",
    "sklearn_model.score(X_train, y_train)\n",
    "sklearn_model.score(X_test, y_test)"
   ]
  },
  {
   "cell_type": "markdown",
   "metadata": {},
   "source": [
    "`sklearn.LogisiticRegression` model has identical accuracy as `myLogisiticRegression`. Further, the coefficient estimates are identical."
   ]
  },
  {
   "cell_type": "code",
   "execution_count": 16,
   "metadata": {},
   "outputs": [
    {
     "name": "stdout",
     "output_type": "stream",
     "text": [
      "beta comparison: \n",
      "\n",
      "sklearn  |  my algorithm\n",
      "------------------------\n",
      "-0.08114  |  -0.08114\n",
      "-0.05136  |  -0.05135\n",
      "-0.08178  |  -0.08178\n",
      "-0.07713  |  -0.07713\n",
      "-0.03701  |  -0.03701\n",
      "-0.05865  |  -0.05865\n",
      "-0.06993  |  -0.06993\n",
      "-0.08397  |  -0.08397\n",
      "-0.0333  |  -0.0333\n",
      "0.01441  |  0.01441\n",
      "-0.06072  |  -0.06072\n",
      "0.0025  |  0.0025\n",
      "-0.05765  |  -0.05765\n",
      "-0.05609  |  -0.05609\n",
      "0.01436  |  0.01436\n",
      "-0.01499  |  -0.01499\n",
      "-0.00627  |  -0.00627\n",
      "-0.03046  |  -0.03046\n",
      "0.00529  |  0.00529\n",
      "0.0098  |  0.0098\n",
      "-0.08791  |  -0.08791\n",
      "-0.05866  |  -0.05866\n",
      "-0.08744  |  -0.08744\n",
      "-0.08085  |  -0.08085\n",
      "-0.04985  |  -0.04985\n",
      "-0.06272  |  -0.06272\n",
      "-0.06873  |  -0.06873\n",
      "-0.08811  |  -0.08811\n",
      "-0.05072  |  -0.05072\n",
      "-0.03091  |  -0.03091\n"
     ]
    }
   ],
   "source": [
    "print('beta comparison: \\n')\n",
    "print('sklearn  |  my algorithm')\n",
    "print('------------------------')\n",
    "for i,j in zip(sklearn_model.coef_.reshape(d), my_model.coef_):\n",
    "    print(round(i,5), \" | \",round(j,5))"
   ]
  },
  {
   "cell_type": "markdown",
   "metadata": {},
   "source": [
    "-------------------------"
   ]
  },
  {
   "cell_type": "markdown",
   "metadata": {},
   "source": [
    "------------------\n",
    "\n",
    "## My Logistic Regression with Cross-Validation"
   ]
  },
  {
   "cell_type": "code",
   "execution_count": 17,
   "metadata": {},
   "outputs": [],
   "source": [
    "my_modelCV = myLogisticRegression.LogisticRegressionCV(cv=5)\n",
    "my_modelCV.fit(X_train, y_train)"
   ]
  },
  {
   "cell_type": "code",
   "execution_count": 18,
   "metadata": {},
   "outputs": [
    {
     "name": "stdout",
     "output_type": "stream",
     "text": [
      "MY MODEL Cross-validation model coefficients\n"
     ]
    },
    {
     "data": {
      "text/plain": [
       "array([-0.35446704, -0.39518114, -0.33666401, -0.43469332, -0.14614101,\n",
       "        0.06412665, -0.45497638, -0.54048151, -0.21644433,  0.15753565,\n",
       "       -0.7737284 , -0.02066209, -0.61179327, -0.62680813,  0.06604328,\n",
       "        0.32684779,  0.10800607,  0.01230812,  0.07691034,  0.34241396,\n",
       "       -0.62292005, -0.60356333, -0.57636314, -0.66265417, -0.42037065,\n",
       "       -0.14967287, -0.46882443, -0.57830745, -0.38798093, -0.25879455])"
      ]
     },
     "execution_count": 18,
     "metadata": {},
     "output_type": "execute_result"
    }
   ],
   "source": [
    "print('MY MODEL Cross-validation model coefficients')\n",
    "my_modelCV.coef_"
   ]
  },
  {
   "cell_type": "code",
   "execution_count": 21,
   "metadata": {},
   "outputs": [
    {
     "data": {
      "image/png": "[encoded data removed]",
      "text/plain": [
       "<Figure size 432x288 with 1 Axes>"
      ]
     },
     "metadata": {
      "needs_background": "light"
     },
     "output_type": "display_data"
    }
   ],
   "source": [
    "_ = my_modelCV.plot_cv_scores()"
   ]
  },
  {
   "cell_type": "code",
   "execution_count": 22,
   "metadata": {},
   "outputs": [
    {
     "name": "stdout",
     "output_type": "stream",
     "text": [
      "MY MODEL optimal parameters:\n",
      "  lambda: 0.00599\n",
      "  C: 0.18331\n"
     ]
    }
   ],
   "source": [
    "print('MY MODEL optimal parameters:')\n",
    "print('  lambda: {}'.format(round(my_modelCV.lambda_,5)))\n",
    "print('  C: {}'.format(round(my_modelCV.C_, 5)))"
   ]
  },
  {
   "cell_type": "code",
   "execution_count": 23,
   "metadata": {},
   "outputs": [
    {
     "data": {
      "text/plain": [
       "0.989010989010989"
      ]
     },
     "execution_count": 23,
     "metadata": {},
     "output_type": "execute_result"
    },
    {
     "data": {
      "text/plain": [
       "0.956140350877193"
      ]
     },
     "execution_count": 23,
     "metadata": {},
     "output_type": "execute_result"
    }
   ],
   "source": [
    "my_modelCV.score(X_train, y_train)\n",
    "my_modelCV.score(X_test, y_test)"
   ]
  },
  {
   "cell_type": "markdown",
   "metadata": {},
   "source": [
    "My cross-validation model obtains a 98.9% accuracy on the training set and a 95.6% accuracy on the test set. The accuracy is improved by about 3% for both sets compared to the using $\\lambda = 1$."
   ]
  },
  {
   "cell_type": "markdown",
   "metadata": {},
   "source": [
    "------------------\n",
    "\n",
    "## Sklearn Logistic Regression with Cross-Validation"
   ]
  },
  {
   "cell_type": "code",
   "execution_count": 24,
   "metadata": {},
   "outputs": [],
   "source": [
    "from sklearn.linear_model import LogisticRegressionCV"
   ]
  },
  {
   "cell_type": "code",
   "execution_count": 25,
   "metadata": {},
   "outputs": [
    {
     "data": {
      "text/plain": [
       "0.989010989010989"
      ]
     },
     "execution_count": 25,
     "metadata": {},
     "output_type": "execute_result"
    },
    {
     "data": {
      "text/plain": [
       "0.9649122807017544"
      ]
     },
     "execution_count": 25,
     "metadata": {},
     "output_type": "execute_result"
    }
   ],
   "source": [
    "sklearn_modelCV = LogisticRegressionCV(cv=5, fit_intercept=False, max_iter=1000)\n",
    "_ = sklearn_modelCV.fit(X_train, y_train)\n",
    "sklearn_modelCV.score(X_train, y_train)\n",
    "sklearn_modelCV.score(X_test, y_test)"
   ]
  },
  {
   "cell_type": "markdown",
   "metadata": {},
   "source": [
    "The `sklearn.LogisticRegressionCV` obtains indentical accuracies as my cross-validation model (98.9% and 96.5% accuracy for the training and test datasets, respectively)."
   ]
  },
  {
   "cell_type": "code",
   "execution_count": 26,
   "metadata": {},
   "outputs": [
    {
     "name": "stdout",
     "output_type": "stream",
     "text": [
      "SKLEARN Cross-validation model coefficients\n"
     ]
    },
    {
     "data": {
      "text/plain": [
       "array([[-0.33907339, -0.43975489, -0.33471766, -0.45524439, -0.1504753 ,\n",
       "         0.19016279, -0.56078098, -0.6516716 , -0.26337983,  0.15780683,\n",
       "        -0.99749909, -0.00173753, -0.74490811, -0.80419886,  0.11190058,\n",
       "         0.47322561,  0.11126508, -0.02019339,  0.09990156,  0.4768656 ,\n",
       "        -0.73232394, -0.74696146, -0.65991939, -0.79704759, -0.47888748,\n",
       "        -0.09941796, -0.59920777, -0.71874421, -0.44888533, -0.36470289]])"
      ]
     },
     "execution_count": 26,
     "metadata": {},
     "output_type": "execute_result"
    }
   ],
   "source": [
    "print('SKLEARN Cross-validation model coefficients')\n",
    "sklearn_modelCV.coef_"
   ]
  },
  {
   "cell_type": "code",
   "execution_count": 27,
   "metadata": {
    "scrolled": true
   },
   "outputs": [
    {
     "name": "stdout",
     "output_type": "stream",
     "text": [
      "SKLEARN optimal parameters:\n",
      "  lambda: 0.00306\n",
      "  C: 0.35938\n"
     ]
    }
   ],
   "source": [
    "n, d = X_train.shape\n",
    "lambda_star = 1/(2*n*sklearn_modelCV.C_)\n",
    "print('SKLEARN optimal parameters:')\n",
    "print('  lambda: {}'.format(round(lambda_star[0],5)))\n",
    "print('  C: {}'.format(round(sklearn_modelCV.C_[0], 5)))"
   ]
  },
  {
   "cell_type": "markdown",
   "metadata": {},
   "source": [
    "The model coefficients and optimal values of $\\lambda$ (0.00599 vs. 0.00306 for mine and sklearn) are very similar. This demonstrates that my models have very good accuracy and have been implemented correctly."
   ]
  }
 ],
 "metadata": {
  "kernelspec": {
   "display_name": "Python 3",
   "language": "python",
   "name": "python3"
  },
  "language_info": {
   "codemirror_mode": {
    "name": "ipython",
    "version": 3
   },
   "file_extension": ".py",
   "mimetype": "text/x-python",
   "name": "python",
   "nbconvert_exporter": "python",
   "pygments_lexer": "ipython3",
   "version": "3.7.3"
  }
 },
 "nbformat": 4,
 "nbformat_minor": 2
}
